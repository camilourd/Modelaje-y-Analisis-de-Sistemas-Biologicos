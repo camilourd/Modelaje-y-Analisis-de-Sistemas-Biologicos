{
 "cells": [
  {
   "cell_type": "markdown",
   "metadata": {},
   "source": [
    "# Carcinoma and Gland Analysis"
   ]
  },
  {
   "cell_type": "markdown",
   "metadata": {},
   "source": [
    "Camilo Alejandro Alaguna Córdoba\n",
    "\n",
    "Maestría en Ingeniería - Ingeniería de Sistemas y Computación"
   ]
  },
  {
   "cell_type": "code",
   "execution_count": 1,
   "metadata": {},
   "outputs": [],
   "source": [
    "import csv\n",
    "import numpy as np\n",
    "import matplotlib.pyplot as plt\n",
    "import networkx as nx\n",
    "import math\n",
    "import heapq\n",
    "import random\n",
    "import os\n",
    "import glob"
   ]
  },
  {
   "cell_type": "markdown",
   "metadata": {},
   "source": [
    "## 1. Loading data functions"
   ]
  },
  {
   "cell_type": "code",
   "execution_count": 2,
   "metadata": {},
   "outputs": [],
   "source": [
    "folder = \"data//carcinoma\"\n",
    "\n",
    "def getData(path):\n",
    "    points = []\n",
    "    with open(path) as csvfile:\n",
    "        spamreader = csv.reader(csvfile, delimiter=',', quotechar='|')\n",
    "        for x, y in spamreader:\n",
    "            points.append((float(x), float(y)))\n",
    "    return points"
   ]
  },
  {
   "cell_type": "code",
   "execution_count": 3,
   "metadata": {},
   "outputs": [],
   "source": [
    "filename = \"carcinoma002.csv\"\n",
    "path = folder + \"//\" + filename\n",
    "\n",
    "centroids = getData(path)"
   ]
  },
  {
   "cell_type": "markdown",
   "metadata": {},
   "source": [
    "## 2. Graphing data"
   ]
  },
  {
   "cell_type": "code",
   "execution_count": 4,
   "metadata": {},
   "outputs": [
    {
     "data": {
      "image/png": "[encoded data removed]",
      "text/plain": [
       "<matplotlib.figure.Figure at 0x1d1e99a1cf8>"
      ]
     },
     "metadata": {},
     "output_type": "display_data"
    }
   ],
   "source": [
    "plt.plot(centroids, 'ro')\n",
    "plt.show()"
   ]
  },
  {
   "cell_type": "markdown",
   "metadata": {},
   "source": [
    "## 3. Graph creation"
   ]
  },
  {
   "cell_type": "code",
   "execution_count": 5,
   "metadata": {},
   "outputs": [],
   "source": [
    "def createGraph(points, generateEdges):\n",
    "    G = nx.Graph()\n",
    "    nodes = designate(points)\n",
    "    generateEdges(G, nodes)\n",
    "    return G\n",
    "\n",
    "def designate(points):\n",
    "    nodes = {}\n",
    "    index = 0\n",
    "    for u in points:\n",
    "        nodes[index] = u\n",
    "        index = index + 1\n",
    "    return nodes\n",
    "\n",
    "def distance(u, v):\n",
    "    x1, y1 = u\n",
    "    x2, y2 = v\n",
    "    return math.sqrt((x1 - x2) * (x1 - x2) + (y1 - y2) * (y1 - y2))"
   ]
  },
  {
   "cell_type": "markdown",
   "metadata": {},
   "source": [
    "### 3.1. Functions for graph generation"
   ]
  },
  {
   "cell_type": "markdown",
   "metadata": {},
   "source": [
    "#### 3.1.1. Minimum Spaning Tree"
   ]
  },
  {
   "cell_type": "code",
   "execution_count": 6,
   "metadata": {
    "collapsed": true
   },
   "outputs": [],
   "source": [
    "class PriorityQueue:\n",
    "    def __init__(self):\n",
    "        self._queue = []\n",
    "        self._index = 0\n",
    "        self._count = 0\n",
    "\n",
    "    def push(self, item, priority):\n",
    "        heapq.heappush(self._queue, (-priority, self._index, item))\n",
    "        self._index += 1\n",
    "        self._count += 1\n",
    "\n",
    "    def pop(self):\n",
    "        self._count -= 1\n",
    "        return heapq.heappop(self._queue)[-1]\n",
    "    \n",
    "    def isEmpty(self):\n",
    "        return self._count == 0"
   ]
  },
  {
   "cell_type": "code",
   "execution_count": 7,
   "metadata": {
    "collapsed": true
   },
   "outputs": [],
   "source": [
    "class DisjointSet:\n",
    "    def __init__(self, n):\n",
    "        self.sets = list(range(n))\n",
    "    \n",
    "    def find(self, x):\n",
    "        if self.sets[x] == x:\n",
    "            return x\n",
    "        return self.find(self.sets[x])\n",
    "    \n",
    "    def merge(self, u, v):\n",
    "        self.sets[self.find(u)] = self.find(v)\n",
    "    \n",
    "    def areJoined(self, u, v):\n",
    "        return self.find(u) == self.find(v)"
   ]
  },
  {
   "cell_type": "code",
   "execution_count": 8,
   "metadata": {},
   "outputs": [],
   "source": [
    "def mst(G, nodes):\n",
    "    Q, S = init(nodes)\n",
    "    while not Q.isEmpty():\n",
    "        u, v = Q.pop()\n",
    "        if not S.areJoined(u, v):\n",
    "            S.merge(u, v)\n",
    "            G.add_edge(u, v, weight=1)\n",
    "\n",
    "def init(nodes):\n",
    "    Q = getEdges(nodes)\n",
    "    S = DisjointSet(len(nodes))\n",
    "    return (Q, S)\n",
    "\n",
    "def getEdges(nodes):\n",
    "    Q = PriorityQueue()\n",
    "    for u in nodes.keys():\n",
    "        for v in nodes.keys():\n",
    "            if u != v:\n",
    "                Q.push((u, v), distance(nodes[u], nodes[v]))\n",
    "    return Q"
   ]
  },
  {
   "cell_type": "markdown",
   "metadata": {},
   "source": [
    "#### 3.1.2. Waxman graph"
   ]
  },
  {
   "cell_type": "code",
   "execution_count": 9,
   "metadata": {},
   "outputs": [],
   "source": [
    "beta = 2\n",
    "k = 0.05\n",
    "\n",
    "def waxman(G, nodes):\n",
    "    for u in nodes.keys():\n",
    "        for v in nodes.keys():\n",
    "            if u != v:\n",
    "                rnd = random.uniform(0, 1)\n",
    "                if rnd < probability(nodes[u], nodes[v]):\n",
    "                    G.add_edge(u, v, weight=1)\n",
    "\n",
    "def probability(u, v):\n",
    "    dist = distance(u, v)\n",
    "    return beta * math.exp(-dist * k)"
   ]
  },
  {
   "cell_type": "markdown",
   "metadata": {},
   "source": [
    "### 3.2. Graph generation"
   ]
  },
  {
   "cell_type": "code",
   "execution_count": 10,
   "metadata": {
    "scrolled": true
   },
   "outputs": [
    {
     "data": {
      "image/png": "[encoded data removed]",
      "text/plain": [
       "<matplotlib.figure.Figure at 0x1d1e9dc6be0>"
      ]
     },
     "metadata": {},
     "output_type": "display_data"
    }
   ],
   "source": [
    "G = createGraph(centroids, waxman)\n",
    "\n",
    "nx.draw_networkx(G, cmap=plt.get_cmap('jet'), node_size=30, with_labels=False)\n",
    "plt.show()"
   ]
  },
  {
   "cell_type": "markdown",
   "metadata": {},
   "source": [
    "## 4. Data Analysis"
   ]
  },
  {
   "cell_type": "markdown",
   "metadata": {},
   "source": [
    "### 4.1. Analysis functions"
   ]
  },
  {
   "cell_type": "markdown",
   "metadata": {},
   "source": [
    "#### 4.1.1. Max degree"
   ]
  },
  {
   "cell_type": "code",
   "execution_count": 11,
   "metadata": {
    "collapsed": true
   },
   "outputs": [],
   "source": [
    "def maxDegree(G):\n",
    "    maxd = 0\n",
    "    degree = {}\n",
    "    for u in G.nodes():\n",
    "        degree[u] = 0\n",
    "    for u, v in G.edges():\n",
    "        degree[u] = degree[u] + 1\n",
    "        degree[v] = degree[v] + 1\n",
    "        if degree[u] > maxd:\n",
    "            maxd = degree[u]\n",
    "        if degree[v] > maxd:\n",
    "            maxd = degree[v]\n",
    "    return maxd"
   ]
  },
  {
   "cell_type": "code",
   "execution_count": 12,
   "metadata": {},
   "outputs": [
    {
     "name": "stdout",
     "output_type": "stream",
     "text": [
      "19\n"
     ]
    }
   ],
   "source": [
    "print(maxDegree(G))"
   ]
  },
  {
   "cell_type": "markdown",
   "metadata": {},
   "source": [
    "#### 4.1.2. Number of edges"
   ]
  },
  {
   "cell_type": "code",
   "execution_count": 13,
   "metadata": {
    "collapsed": true
   },
   "outputs": [],
   "source": [
    "def numberOfEdges(G):\n",
    "    return len(G.edges())"
   ]
  },
  {
   "cell_type": "code",
   "execution_count": 14,
   "metadata": {},
   "outputs": [
    {
     "name": "stdout",
     "output_type": "stream",
     "text": [
      "2493\n"
     ]
    }
   ],
   "source": [
    "print(numberOfEdges(G))"
   ]
  },
  {
   "cell_type": "markdown",
   "metadata": {},
   "source": [
    "#### 4.1.3. Clustering coefficient"
   ]
  },
  {
   "cell_type": "code",
   "execution_count": 15,
   "metadata": {},
   "outputs": [
    {
     "name": "stdout",
     "output_type": "stream",
     "text": [
      "0.30547954397773186\n"
     ]
    }
   ],
   "source": [
    "coef = nx.average_clustering(G)\n",
    "print(coef)"
   ]
  },
  {
   "cell_type": "markdown",
   "metadata": {},
   "source": [
    "#### 4.1.4. Average degree"
   ]
  },
  {
   "cell_type": "code",
   "execution_count": 16,
   "metadata": {
    "collapsed": true
   },
   "outputs": [],
   "source": [
    "def averageDegree(G):\n",
    "    degree = {}\n",
    "    for u in G.nodes():\n",
    "        degree[u] = 0\n",
    "    for u, v in G.edges():\n",
    "        degree[u] = degree[u] + 1\n",
    "        degree[v] = degree[v] + 1\n",
    "    acc = 0\n",
    "    for u in degree.keys():\n",
    "        acc += degree[u]\n",
    "    return acc / len(degree)"
   ]
  },
  {
   "cell_type": "code",
   "execution_count": 17,
   "metadata": {},
   "outputs": [
    {
     "name": "stdout",
     "output_type": "stream",
     "text": [
      "9.461100569259962\n"
     ]
    }
   ],
   "source": [
    "avgd = averageDegree(G)\n",
    "print(avgd)"
   ]
  },
  {
   "cell_type": "markdown",
   "metadata": {},
   "source": [
    "### 4.2. MST Data Analysis"
   ]
  },
  {
   "cell_type": "code",
   "execution_count": 18,
   "metadata": {
    "collapsed": true
   },
   "outputs": [],
   "source": [
    "folders = [\"data//carcinoma//\", \"data//gland//\"]"
   ]
  },
  {
   "cell_type": "markdown",
   "metadata": {},
   "source": [
    "#### 4.2.1. Obtaining data"
   ]
  },
  {
   "cell_type": "code",
   "execution_count": 45,
   "metadata": {},
   "outputs": [],
   "source": [
    "clustering = []\n",
    "edges_number = []\n",
    "max_degree = []\n",
    "avg_degree = []\n",
    "\n",
    "for folder in folders:\n",
    "    cl, en, md, ad = [], [], [], []\n",
    "    for filename in glob.glob(os.path.join(folder, '*.csv')):\n",
    "        centroids = getData(filename)\n",
    "        G = createGraph(centroids, mst)\n",
    "        cl.append(nx.average_clustering(G))\n",
    "        en.append(numberOfEdges(G))\n",
    "        md.append(maxDegree(G))\n",
    "        ad.append(averageDegree(G))\n",
    "    clustering.append(cl)\n",
    "    edges_number.append(en)\n",
    "    max_degree.append(md)\n",
    "    avg_degree.append(ad)"
   ]
  },
  {
   "cell_type": "markdown",
   "metadata": {},
   "source": [
    "#### 4.2.2. Clustering Coefficient"
   ]
  },
  {
   "cell_type": "code",
   "execution_count": 46,
   "metadata": {},
   "outputs": [
    {
     "data": {
      "image/png": "[encoded data removed]",
      "text/plain": [
       "<matplotlib.figure.Figure at 0x1d1eb335208>"
      ]
     },
     "metadata": {},
     "output_type": "display_data"
    }
   ],
   "source": [
    "plt.boxplot(clustering)\n",
    "plt.xticks([1, 2], ['carcinoma', 'gland'])\n",
    "plt.show()"
   ]
  },
  {
   "cell_type": "markdown",
   "metadata": {},
   "source": [
    "It is expected that the clustering coefficient is equals to 0 when the Minimum Spanning Tree is used to represent data, due to this kind of networks don't have cliques. This makes impossible to differenciate both kind of networks."
   ]
  },
  {
   "cell_type": "markdown",
   "metadata": {},
   "source": [
    "#### 4.2.3. Number of edges"
   ]
  },
  {
   "cell_type": "code",
   "execution_count": 47,
   "metadata": {},
   "outputs": [
    {
     "data": {
      "image/png": "[encoded data removed]",
      "text/plain": [
       "<matplotlib.figure.Figure at 0x1d1ea527ac8>"
      ]
     },
     "metadata": {},
     "output_type": "display_data"
    }
   ],
   "source": [
    "plt.boxplot(edges_number)\n",
    "plt.xticks([1, 2], ['carcinoma', 'gland'])\n",
    "plt.show()"
   ]
  },
  {
   "cell_type": "code",
   "execution_count": 50,
   "metadata": {},
   "outputs": [
    {
     "data": {
      "image/png": "[encoded data removed]",
      "text/plain": [
       "<matplotlib.figure.Figure at 0x1d1eb335fd0>"
      ]
     },
     "metadata": {},
     "output_type": "display_data"
    }
   ],
   "source": [
    "plt.hist(edges_number)\n",
    "plt.show()"
   ]
  },
  {
   "cell_type": "markdown",
   "metadata": {},
   "source": [
    "#### 4.2.4. Max degree"
   ]
  },
  {
   "cell_type": "code",
   "execution_count": 48,
   "metadata": {},
   "outputs": [
    {
     "data": {
      "image/png": "[encoded data removed]",
      "text/plain": [
       "<matplotlib.figure.Figure at 0x1d1eb3357f0>"
      ]
     },
     "metadata": {},
     "output_type": "display_data"
    }
   ],
   "source": [
    "plt.boxplot(max_degree)\n",
    "plt.xticks([1, 2], ['carcinoma', 'gland'])\n",
    "plt.show()"
   ]
  },
  {
   "cell_type": "code",
   "execution_count": 51,
   "metadata": {},
   "outputs": [
    {
     "data": {
      "image/png": "[encoded data removed]",
      "text/plain": [
       "<matplotlib.figure.Figure at 0x1d1ea146518>"
      ]
     },
     "metadata": {},
     "output_type": "display_data"
    }
   ],
   "source": [
    "plt.hist(max_degree)\n",
    "plt.show()"
   ]
  },
  {
   "cell_type": "markdown",
   "metadata": {},
   "source": [
    "#### 4.2.5. Average degree"
   ]
  },
  {
   "cell_type": "code",
   "execution_count": 49,
   "metadata": {},
   "outputs": [
    {
     "data": {
      "image/png": "[encoded data removed]",
      "text/plain": [
       "<matplotlib.figure.Figure at 0x1d1e9dbfa90>"
      ]
     },
     "metadata": {},
     "output_type": "display_data"
    }
   ],
   "source": [
    "plt.boxplot(avg_degree)\n",
    "plt.xticks([1, 2], ['carcinoma', 'gland'])\n",
    "plt.show()"
   ]
  },
  {
   "cell_type": "code",
   "execution_count": 52,
   "metadata": {},
   "outputs": [
    {
     "data": {
      "image/png": "[encoded data removed]",
      "text/plain": [
       "<matplotlib.figure.Figure at 0x1d1eb334588>"
      ]
     },
     "metadata": {},
     "output_type": "display_data"
    }
   ],
   "source": [
    "plt.hist(avg_degree)\n",
    "plt.show()"
   ]
  },
  {
   "cell_type": "markdown",
   "metadata": {},
   "source": [
    "### 4.3. Waxman Data Analysis"
   ]
  },
  {
   "cell_type": "markdown",
   "metadata": {},
   "source": [
    "#### 4.3.1. Obtaining data"
   ]
  },
  {
   "cell_type": "code",
   "execution_count": 24,
   "metadata": {
    "collapsed": true
   },
   "outputs": [],
   "source": [
    "clustering = []\n",
    "edges_number = []\n",
    "max_degree = []\n",
    "avg_degree = []\n",
    "\n",
    "for folder in folders:\n",
    "    cl, en, md, ad = [], [], [], []\n",
    "    for filename in glob.glob(os.path.join(folder, '*.csv')):\n",
    "        centroids = getData(filename)\n",
    "        G = createGraph(centroids, waxman)\n",
    "        cl.append(nx.average_clustering(G))\n",
    "        en.append(numberOfEdges(G))\n",
    "        md.append(maxDegree(G))\n",
    "        ad.append(averageDegree(G))\n",
    "    clustering.append(cl)\n",
    "    edges_number.append(en)\n",
    "    max_degree.append(md)\n",
    "    avg_degree.append(ad)"
   ]
  },
  {
   "cell_type": "markdown",
   "metadata": {},
   "source": [
    "#### 4.3.2. Clustering Coefficient"
   ]
  },
  {
   "cell_type": "code",
   "execution_count": 25,
   "metadata": {},
   "outputs": [
    {
     "data": {
      "image/png": "[encoded data removed]",
      "text/plain": [
       "<matplotlib.figure.Figure at 0x1d1e99a1ba8>"
      ]
     },
     "metadata": {},
     "output_type": "display_data"
    }
   ],
   "source": [
    "plt.boxplot(clustering)\n",
    "plt.xticks([1, 2], ['carcinoma', 'gland'])\n",
    "plt.show()"
   ]
  },
  {
   "cell_type": "markdown",
   "metadata": {},
   "source": [
    "The carcinoma clustering coefficient box is so narrow, this shows that most of the nodes are equally clustered, that is to say, carcinoma networks lack of a hierarchy, and they might be more disordered that gland networks. In the other hand, the gland box shows that gland graphs might present hierarchical structures and might be more complex that carcinoma networks."
   ]
  },
  {
   "cell_type": "code",
   "execution_count": 44,
   "metadata": {},
   "outputs": [
    {
     "data": {
      "image/png": "[encoded data removed]",
      "text/plain": [
       "<matplotlib.figure.Figure at 0x1d1ea534668>"
      ]
     },
     "metadata": {},
     "output_type": "display_data"
    }
   ],
   "source": [
    "plt.hist(clustering)\n",
    "plt.show()"
   ]
  },
  {
   "cell_type": "markdown",
   "metadata": {},
   "source": [
    "Histogram Graph shows a similar behaviour explaned above, but both graphs has the most of data in the same points, then I can't conclude both graphs are significantly different."
   ]
  },
  {
   "cell_type": "markdown",
   "metadata": {},
   "source": [
    "#### 4.3.3. Number of edges"
   ]
  },
  {
   "cell_type": "code",
   "execution_count": 26,
   "metadata": {},
   "outputs": [
    {
     "data": {
      "image/png": "[encoded data removed]",
      "text/plain": [
       "<matplotlib.figure.Figure at 0x1d1e9dd9080>"
      ]
     },
     "metadata": {},
     "output_type": "display_data"
    }
   ],
   "source": [
    "plt.boxplot(edges_number)\n",
    "plt.xticks([1, 2], ['carcinoma', 'gland'])\n",
    "plt.show()"
   ]
  },
  {
   "cell_type": "markdown",
   "metadata": {},
   "source": [
    "It is clear that in average the carcinoma networks have aproximatelly three times the number of gland number of edges, thus it indicates that carcinoma networks are pretty much more connected than gland networks, that suggest carcinoma networks might be more caothic that gland networks."
   ]
  },
  {
   "cell_type": "code",
   "execution_count": 31,
   "metadata": {},
   "outputs": [
    {
     "data": {
      "image/png": "[encoded data removed]",
      "text/plain": [
       "<matplotlib.figure.Figure at 0x1d1ea373550>"
      ]
     },
     "metadata": {},
     "output_type": "display_data"
    }
   ],
   "source": [
    "plt.hist(edges_number)\n",
    "plt.show()"
   ]
  },
  {
   "cell_type": "markdown",
   "metadata": {},
   "source": [
    "This graph confirms what has been said above, and it is possible to differenciate carcinoma from gland networks when the network has more than 2000 edges."
   ]
  },
  {
   "cell_type": "markdown",
   "metadata": {},
   "source": [
    "#### 4.3.4. Max degree"
   ]
  },
  {
   "cell_type": "code",
   "execution_count": 27,
   "metadata": {},
   "outputs": [
    {
     "data": {
      "image/png": "[encoded data removed]",
      "text/plain": [
       "<matplotlib.figure.Figure at 0x1d1e7071908>"
      ]
     },
     "metadata": {},
     "output_type": "display_data"
    }
   ],
   "source": [
    "plt.boxplot(max_degree)\n",
    "plt.xticks([1, 2], ['carcinoma', 'gland'])\n",
    "plt.show()"
   ]
  },
  {
   "cell_type": "markdown",
   "metadata": {},
   "source": [
    "The max degree of carcinoma networks is in average higher than the max degree of gland networks, but both boxes share a lot of area, then it is difficult to differenciate both kind graphs when their max degree is less that aprox. 15."
   ]
  },
  {
   "cell_type": "code",
   "execution_count": 30,
   "metadata": {},
   "outputs": [
    {
     "data": {
      "image/png": "[encoded data removed]",
      "text/plain": [
       "<matplotlib.figure.Figure at 0x1d1ebf30208>"
      ]
     },
     "metadata": {},
     "output_type": "display_data"
    }
   ],
   "source": [
    "plt.hist(max_degree)\n",
    "plt.show()"
   ]
  },
  {
   "cell_type": "markdown",
   "metadata": {},
   "source": [
    "This graph confirms that it is difficult to discriminate both kind of networks when the max degree is less or equals than 15."
   ]
  },
  {
   "cell_type": "markdown",
   "metadata": {},
   "source": [
    "#### 4.3.5. Average degree"
   ]
  },
  {
   "cell_type": "code",
   "execution_count": 28,
   "metadata": {},
   "outputs": [
    {
     "data": {
      "image/png": "[encoded data removed]",
      "text/plain": [
       "<matplotlib.figure.Figure at 0x1d1e9fffc50>"
      ]
     },
     "metadata": {},
     "output_type": "display_data"
    }
   ],
   "source": [
    "plt.boxplot(avg_degree)\n",
    "plt.xticks([1, 2], ['carcinoma', 'gland'])\n",
    "plt.show()"
   ]
  },
  {
   "cell_type": "code",
   "execution_count": 43,
   "metadata": {},
   "outputs": [
    {
     "data": {
      "image/png": "[encoded data removed]",
      "text/plain": [
       "<matplotlib.figure.Figure at 0x1d1ec531c50>"
      ]
     },
     "metadata": {},
     "output_type": "display_data"
    }
   ],
   "source": [
    "plt.hist(avg_degree)\n",
    "plt.show()"
   ]
  },
  {
   "cell_type": "markdown",
   "metadata": {},
   "source": []
  }
 ],
 "metadata": {
  "kernelspec": {
   "display_name": "Python 3",
   "language": "python",
   "name": "python3"
  },
  "language_info": {
   "codemirror_mode": {
    "name": "ipython",
    "version": 3
   },
   "file_extension": ".py",
   "mimetype": "text/x-python",
   "name": "python",
   "nbconvert_exporter": "python",
   "pygments_lexer": "ipython3",
   "version": "3.6.1"
  }
 },
 "nbformat": 4,
 "nbformat_minor": 2
}
